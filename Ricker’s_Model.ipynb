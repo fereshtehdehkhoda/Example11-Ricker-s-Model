{
  "cells": [
    {
      "cell_type": "markdown",
      "metadata": {
        "id": "view-in-github",
        "colab_type": "text"
      },
      "source": [
        "<a href=\"https://colab.research.google.com/github/fereshtehdehkhoda/Example11-Ricker-s-Model/blob/main/Ricker%E2%80%99s_Model.ipynb\" target=\"_parent\"><img src=\"https://colab.research.google.com/assets/colab-badge.svg\" alt=\"Open In Colab\"/></a>"
      ]
    },
    {
      "cell_type": "markdown",
      "id": "c7a9208c-9e40-4a20-b393-187264ab9a8d",
      "metadata": {
        "id": "c7a9208c-9e40-4a20-b393-187264ab9a8d"
      },
      "source": [
        "# Ricker’s Model"
      ]
    },
    {
      "cell_type": "code",
      "execution_count": null,
      "id": "e3b9e95a-5544-484c-b8a2-33ef921c0e2b",
      "metadata": {
        "id": "e3b9e95a-5544-484c-b8a2-33ef921c0e2b",
        "outputId": "fb368942-b43e-4d39-bca5-d4c71575f217"
      },
      "outputs": [
        {
          "data": {
            "text/plain": [
              "9388.196072146662"
            ]
          },
          "execution_count": 58,
          "metadata": {},
          "output_type": "execute_result"
        }
      ],
      "source": [
        "#Step1\n",
        "import math\n",
        "\n",
        "N=[100]\n",
        "t=80\n",
        "r=0.09\n",
        "k=10000\n",
        "a=0\n",
        "\n",
        "#Step2\n",
        "for i in range(t):\n",
        "    a=N[i]* (math.e ** (r*(1-(N[i]/k))))\n",
        "    N.append(a)\n",
        "\n",
        "#Step3\n",
        "a"
      ]
    },
    {
      "cell_type": "code",
      "execution_count": null,
      "id": "7f8abb9b-5caf-4717-9e56-9e95944632b1",
      "metadata": {
        "id": "7f8abb9b-5caf-4717-9e56-9e95944632b1"
      },
      "outputs": [],
      "source": []
    }
  ],
  "metadata": {
    "kernelspec": {
      "display_name": "Python 3 (ipykernel)",
      "language": "python",
      "name": "python3"
    },
    "language_info": {
      "codemirror_mode": {
        "name": "ipython",
        "version": 3
      },
      "file_extension": ".py",
      "mimetype": "text/x-python",
      "name": "python",
      "nbconvert_exporter": "python",
      "pygments_lexer": "ipython3",
      "version": "3.12.4"
    },
    "colab": {
      "provenance": [],
      "include_colab_link": true
    }
  },
  "nbformat": 4,
  "nbformat_minor": 5
}